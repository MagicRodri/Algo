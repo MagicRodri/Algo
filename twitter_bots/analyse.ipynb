{
 "cells": [
  {
   "cell_type": "code",
   "execution_count": 97,
   "metadata": {},
   "outputs": [],
   "source": [
    "from db import ohlcv_db, posts_db\n",
    "from typing import List,Set,Iterable\n",
    "import pymongo\n",
    "import pprint\n",
    "import pandas as pd\n",
    "from datetime import datetime, timedelta"
   ]
  },
  {
   "cell_type": "code",
   "execution_count": 98,
   "metadata": {},
   "outputs": [],
   "source": [
    "def get_top_pairs(max_num:int=100,last_hours:int=1) -> List:\n",
    "    \"\"\"\n",
    "        Function to return at most the top max_num distinct pairs by compound volume from ohlcv db in the last last_hours\n",
    "    \"\"\"\n",
    "    ohlcv_documents = ohlcv_db.aggregate(\n",
    "            [\n",
    "                {\n",
    "                    \"$match\": {\n",
    "                        \"timestamp\": {\n",
    "                            \"$gte\": datetime.utcnow() - timedelta(hours=last_hours)\n",
    "                        },\n",
    "                    }\n",
    "                },\n",
    "                {\n",
    "                    \"$group\": {\n",
    "                        \"_id\": {\"$concat\": [\"$pair_symbol\", \"-\", \"$pair_base\"]},\n",
    "                        \"volume_sum\": {\"$sum\": {\"$toDouble\": \"$volume\"}},\n",
    "                    }\n",
    "                },\n",
    "\n",
    "                {\"$sort\": {\"volume_sum\": pymongo.DESCENDING}},\n",
    "                {\"$limit\": max_num},\n",
    "            ],\n",
    "        )\n",
    "    top_pairs_by_volume = [x['_id'].upper() for x in ohlcv_documents]\n",
    "\n",
    "    return top_pairs_by_volume"
   ]
  },
  {
   "cell_type": "code",
   "execution_count": 99,
   "metadata": {},
   "outputs": [],
   "source": [
    "def get_latest_posted_pairs(top_pairs:List,max_num:int=5) -> Set:\n",
    "    \"\"\"\n",
    "        Function to return at most the top max_num distinct pairs by latest post time from posts db\n",
    "    \"\"\"\n",
    "\n",
    "    posts_documents = posts_db.aggregate(\n",
    "        [\n",
    "            {\n",
    "                \"$match\": {\n",
    "                    \"pair\": {\"$in\": top_pairs},\n",
    "                }\n",
    "            },\n",
    "            {\n",
    "                \"$group\": {\n",
    "                    \"_id\": \"$pair\",\n",
    "                    \"time\": {\"$max\": \"$time\"},\n",
    "                }\n",
    "            },\n",
    "            {\"$sort\": {\"time\": pymongo.DESCENDING}},\n",
    "            {\"$limit\": max_num},\n",
    "        ],\n",
    "    )\n",
    "    latest_posted_pairs = {x['_id'].upper() for x in posts_documents}"
   ]
  },
  {
   "cell_type": "code",
   "execution_count": 100,
   "metadata": {},
   "outputs": [],
   "source": [
    "def get_latest_posted_pair() -> str:\n",
    "    \n",
    "    document = posts_db.find({}).sort('time', pymongo.DESCENDING).limit(1)\n",
    "    return document[0].get('pair')"
   ]
  },
  {
   "cell_type": "code",
   "execution_count": 101,
   "metadata": {},
   "outputs": [],
   "source": [
    "def get_pair_to_post(top_pairs:List,lastest_posted_pairs_among_top:Iterable = None) -> str:\n",
    "    \"\"\"\n",
    "        Function to return the pair to post\n",
    "    \"\"\"\n",
    "    if (lastest_posted_pairs_among_top is None) or len(lastest_posted_pairs_among_top) == 0:\n",
    "        # the first pair by volume\n",
    "        return top_pairs[0]\n",
    "\n",
    "    last_posted = get_latest_posted_pair()\n",
    "    for pair in top_pairs:\n",
    "        if pair in lastest_posted_pairs_among_top and not pair == last_posted:\n",
    "            # Choose the first pair by volume among those oldest posted pairs\n",
    "            return pair\n",
    "    else:\n",
    "        # Or the first pair by volume\n",
    "        return top_pairs[0]"
   ]
  },
  {
   "cell_type": "code",
   "execution_count": 102,
   "metadata": {},
   "outputs": [],
   "source": [
    "\n",
    "def get_message_dict(pair:str=None,pair_symbol:str=None,pair_base:str=None) -> dict:\n",
    "    \"\"\"\n",
    "        Function to return a dictionary of marketVenue:volume percentage for a given pair\n",
    "    \"\"\"\n",
    "    if pair is None and (pair_symbol is None or pair_base is None):\n",
    "        raise ValueError(\"Either pair or pair_symbol and pair_base must be provided\")\n",
    "\n",
    "    if pair is not None:\n",
    "        try:\n",
    "            pair_symbol = pair.split('-')[0].lower()\n",
    "            pair_base = pair.split('-')[1].lower()\n",
    "        except:\n",
    "            raise ValueError(\"Invalid pair provided, must be in the format 'SYMBOL-BASE\")\n",
    "            \n",
    "    ohlcv_documents_for_pair = ohlcv_db.find({'pair_symbol':pair_symbol,'pair_base':pair_base}).sort('timestamp', pymongo.DESCENDING)\n",
    "\n",
    "    latest_date = None\n",
    "    message_dict = {\n",
    "        'others':0\n",
    "    }\n",
    "    for item in ohlcv_documents_for_pair:\n",
    "        \n",
    "        if latest_date is None:\n",
    "            latest_date = item['timestamp']\n",
    "        if item['timestamp'] == latest_date:\n",
    "            # pprint.pprint(item)\n",
    "            if item['marketVenue'] not in message_dict:\n",
    "                if len(message_dict) <= 5:\n",
    "                    # key for top 5 marketVenues\n",
    "                    message_dict[item['marketVenue']] = float(item['volume'])\n",
    "                else:\n",
    "                    # store the rest in 'others'\n",
    "                    message_dict['others'] += float(item['volume'])\n",
    "                continue    \n",
    "            message_dict[item['marketVenue']] += float(item['volume'])\n",
    "        else:\n",
    "            break\n",
    "    total_volume = sum(message_dict.values())\n",
    "    message_dict = {key:round((value/total_volume)*100,2) for key,value in message_dict.items()}\n",
    "    return message_dict"
   ]
  },
  {
   "cell_type": "code",
   "execution_count": 103,
   "metadata": {},
   "outputs": [],
   "source": [
    "def compose_message(pair:str,message_dict:dict) -> str:\n",
    "    \"\"\"\n",
    "        Function to compose a message for a given pair and message_dict\n",
    "    \"\"\"\n",
    "    message = f\"Top 5 marketVenues for {pair}:\\n\"\n",
    "    for marketVenue,percentage in sorted(message_dict.items()):\n",
    "        message += f\"{marketVenue.capitalize()}: {percentage}%\\n\"\n",
    "    return message"
   ]
  },
  {
   "cell_type": "code",
   "execution_count": 104,
   "metadata": {},
   "outputs": [],
   "source": [
    "\n",
    "top_100_pairs_by_volume = get_top_pairs(max_num=100)\n",
    "latest_posted_pair_among_top = get_latest_posted_pairs(top_pairs=top_100_pairs_by_volume,max_num=5)\n",
    "pair_to_post = get_pair_to_post(top_100_pairs_by_volume,latest_posted_pair_among_top)\n",
    "message_dict = get_message_dict(pair=pair_to_post)\n",
    "message = compose_message(pair_to_post,message_dict)"
   ]
  },
  {
   "cell_type": "code",
   "execution_count": 110,
   "metadata": {},
   "outputs": [
    {
     "name": "stdout",
     "output_type": "stream",
     "text": [
      "['SHIB-USDT', 'SHIB-USD', 'SHIB-USDC', 'DOGE-USDT', 'XRP-USDT', 'ADA-USDT', 'BUSD-USDT', 'DOGE-USD', 'XLM-USDT', 'MATIC-USDT', 'BTC-USD', 'USDT-USD', 'EOS-USDT', 'ETH-USD', 'ADA-USD', 'USDC-USDT', 'XRP-USD', 'XLM-USD', 'LINK-USDT', 'ETH-USDT', 'BTC-USDT', 'DOT-USDT', 'DOGE-USDC', 'MATIC-USD', 'UNI-USDT', 'USDC-USD', 'LTC-USDT', 'CRO-USDT', 'AVAX-USDT', 'CRO-USD', 'LTC-USD', 'USDT-USDC', 'LINK-USD', 'EOS-USD', 'BNB-USDT', 'DOT-USD', 'UNI-USD', 'XLM-USDC', 'XRP-USDC', 'CRO-USDC', 'MATIC-USDC', 'AVAX-USD', 'ADA-USDC', 'BUSD-USD', 'XMR-USDT', 'BNB-USD', 'XMR-USD', 'DOT-USDC', 'UNI-USDC', 'LTC-USDC', 'ETH-USDC', 'LINK-USDC', 'AVAX-USDC', 'BNB-USDC', 'BUSD-USDC', 'EOS-USDC', 'XMR-USDC', 'BTC-USDC']\n"
     ]
    },
    {
     "data": {
      "text/plain": [
       "'Top 5 marketVenues for SHIB-USDT:\\nBinance-us: 0.03%\\nGateio: 0.97%\\nHitbtc: 2.31%\\nHuobi: 3.55%\\nOkx: 37.8%\\nOthers: 55.35%\\n'"
      ]
     },
     "execution_count": 110,
     "metadata": {},
     "output_type": "execute_result"
    }
   ],
   "source": [
    "print(top_100_pairs_by_volume)\n",
    "message"
   ]
  },
  {
   "cell_type": "code",
   "execution_count": 113,
   "metadata": {},
   "outputs": [
    {
     "ename": "OperationFailure",
     "evalue": "invalid argument to $limit stage: Expected a non-negative number in: $limit: -1, full error: {'ok': 0.0, 'errmsg': 'invalid argument to $limit stage: Expected a non-negative number in: $limit: -1', 'code': 5107201, 'codeName': 'Location5107201', '$clusterTime': {'clusterTime': Timestamp(1672327075, 6), 'signature': {'hash': b\"N/9\\xe3/\\xc1\\x9ea?\\x0e'\\xf0\\xc0_c\\xc1\\xbfO\\xcc\\xf8\", 'keyId': 7172925401017090053}}, 'operationTime': Timestamp(1672327075, 6)}",
     "output_type": "error",
     "traceback": [
      "\u001b[0;31m---------------------------------------------------------------------------\u001b[0m",
      "\u001b[0;31mOperationFailure\u001b[0m                          Traceback (most recent call last)",
      "Cell \u001b[0;32mIn[113], line 1\u001b[0m\n\u001b[0;32m----> 1\u001b[0m ohlcv_db_all \u001b[39m=\u001b[39m ohlcv_db\u001b[39m.\u001b[39;49maggregate(\n\u001b[1;32m      2\u001b[0m             [\n\u001b[1;32m      3\u001b[0m                 {\n\u001b[1;32m      4\u001b[0m                     \u001b[39m\"\u001b[39;49m\u001b[39m$match\u001b[39;49m\u001b[39m\"\u001b[39;49m: {\n\u001b[1;32m      5\u001b[0m                         \u001b[39m\"\u001b[39;49m\u001b[39mtimestamp\u001b[39;49m\u001b[39m\"\u001b[39;49m: {\n\u001b[1;32m      6\u001b[0m                             \u001b[39m\"\u001b[39;49m\u001b[39m$gte\u001b[39;49m\u001b[39m\"\u001b[39;49m: datetime\u001b[39m.\u001b[39;49mutcnow() \u001b[39m-\u001b[39;49m timedelta(hours\u001b[39m=\u001b[39;49m\u001b[39m1\u001b[39;49m)\n\u001b[1;32m      7\u001b[0m                         },\n\u001b[1;32m      8\u001b[0m                     }\n\u001b[1;32m      9\u001b[0m                 },\n\u001b[1;32m     10\u001b[0m                 {\n\u001b[1;32m     11\u001b[0m                     \u001b[39m\"\u001b[39;49m\u001b[39m$group\u001b[39;49m\u001b[39m\"\u001b[39;49m: {\n\u001b[1;32m     12\u001b[0m                         \u001b[39m\"\u001b[39;49m\u001b[39m_id\u001b[39;49m\u001b[39m\"\u001b[39;49m: {\u001b[39m\"\u001b[39;49m\u001b[39m$concat\u001b[39;49m\u001b[39m\"\u001b[39;49m: [\u001b[39m\"\u001b[39;49m\u001b[39m$pair_symbol\u001b[39;49m\u001b[39m\"\u001b[39;49m, \u001b[39m\"\u001b[39;49m\u001b[39m-\u001b[39;49m\u001b[39m\"\u001b[39;49m, \u001b[39m\"\u001b[39;49m\u001b[39m$pair_base\u001b[39;49m\u001b[39m\"\u001b[39;49m]},\n\u001b[1;32m     13\u001b[0m                         \u001b[39m\"\u001b[39;49m\u001b[39mvolume_sum\u001b[39;49m\u001b[39m\"\u001b[39;49m: {\u001b[39m\"\u001b[39;49m\u001b[39m$sum\u001b[39;49m\u001b[39m\"\u001b[39;49m: {\u001b[39m\"\u001b[39;49m\u001b[39m$toDouble\u001b[39;49m\u001b[39m\"\u001b[39;49m: \u001b[39m\"\u001b[39;49m\u001b[39m$volume\u001b[39;49m\u001b[39m\"\u001b[39;49m}},\n\u001b[1;32m     14\u001b[0m                     }\n\u001b[1;32m     15\u001b[0m                 },\n\u001b[1;32m     16\u001b[0m \n\u001b[1;32m     17\u001b[0m                 {\u001b[39m\"\u001b[39;49m\u001b[39m$sort\u001b[39;49m\u001b[39m\"\u001b[39;49m: {\u001b[39m\"\u001b[39;49m\u001b[39mvolume_sum\u001b[39;49m\u001b[39m\"\u001b[39;49m: pymongo\u001b[39m.\u001b[39;49mDESCENDING}},\n\u001b[1;32m     18\u001b[0m                 {\u001b[39m\"\u001b[39;49m\u001b[39m$limit\u001b[39;49m\u001b[39m\"\u001b[39;49m: \u001b[39m-\u001b[39;49m\u001b[39m1\u001b[39;49m},\n\u001b[1;32m     19\u001b[0m             ],\n\u001b[1;32m     20\u001b[0m         )\n",
      "File \u001b[0;32m~/dev/code_snippets/twitter_bots/venv/lib/python3.10/site-packages/pymongo/collection.py:2436\u001b[0m, in \u001b[0;36mCollection.aggregate\u001b[0;34m(self, pipeline, session, let, comment, **kwargs)\u001b[0m\n\u001b[1;32m   2358\u001b[0m \u001b[39m\"\"\"Perform an aggregation using the aggregation framework on this\u001b[39;00m\n\u001b[1;32m   2359\u001b[0m \u001b[39mcollection.\u001b[39;00m\n\u001b[1;32m   2360\u001b[0m \n\u001b[0;32m   (...)\u001b[0m\n\u001b[1;32m   2432\u001b[0m \u001b[39m    https://mongodb.com/docs/manual/reference/command/aggregate\u001b[39;00m\n\u001b[1;32m   2433\u001b[0m \u001b[39m\"\"\"\u001b[39;00m\n\u001b[1;32m   2435\u001b[0m \u001b[39mwith\u001b[39;00m \u001b[39mself\u001b[39m\u001b[39m.\u001b[39m__database\u001b[39m.\u001b[39mclient\u001b[39m.\u001b[39m_tmp_session(session, close\u001b[39m=\u001b[39m\u001b[39mFalse\u001b[39;00m) \u001b[39mas\u001b[39;00m s:\n\u001b[0;32m-> 2436\u001b[0m     \u001b[39mreturn\u001b[39;00m \u001b[39mself\u001b[39;49m\u001b[39m.\u001b[39;49m_aggregate(\n\u001b[1;32m   2437\u001b[0m         _CollectionAggregationCommand,\n\u001b[1;32m   2438\u001b[0m         pipeline,\n\u001b[1;32m   2439\u001b[0m         CommandCursor,\n\u001b[1;32m   2440\u001b[0m         session\u001b[39m=\u001b[39;49ms,\n\u001b[1;32m   2441\u001b[0m         explicit_session\u001b[39m=\u001b[39;49msession \u001b[39mis\u001b[39;49;00m \u001b[39mnot\u001b[39;49;00m \u001b[39mNone\u001b[39;49;00m,\n\u001b[1;32m   2442\u001b[0m         let\u001b[39m=\u001b[39;49mlet,\n\u001b[1;32m   2443\u001b[0m         comment\u001b[39m=\u001b[39;49mcomment,\n\u001b[1;32m   2444\u001b[0m         \u001b[39m*\u001b[39;49m\u001b[39m*\u001b[39;49mkwargs,\n\u001b[1;32m   2445\u001b[0m     )\n",
      "File \u001b[0;32m~/dev/code_snippets/twitter_bots/venv/lib/python3.10/site-packages/pymongo/_csot.py:105\u001b[0m, in \u001b[0;36mapply.<locals>.csot_wrapper\u001b[0;34m(self, *args, **kwargs)\u001b[0m\n\u001b[1;32m    103\u001b[0m         \u001b[39mwith\u001b[39;00m _TimeoutContext(timeout):\n\u001b[1;32m    104\u001b[0m             \u001b[39mreturn\u001b[39;00m func(\u001b[39mself\u001b[39m, \u001b[39m*\u001b[39margs, \u001b[39m*\u001b[39m\u001b[39m*\u001b[39mkwargs)\n\u001b[0;32m--> 105\u001b[0m \u001b[39mreturn\u001b[39;00m func(\u001b[39mself\u001b[39;49m, \u001b[39m*\u001b[39;49margs, \u001b[39m*\u001b[39;49m\u001b[39m*\u001b[39;49mkwargs)\n",
      "File \u001b[0;32m~/dev/code_snippets/twitter_bots/venv/lib/python3.10/site-packages/pymongo/collection.py:2343\u001b[0m, in \u001b[0;36mCollection._aggregate\u001b[0;34m(self, aggregation_command, pipeline, cursor_class, session, explicit_session, let, comment, **kwargs)\u001b[0m\n\u001b[1;32m   2332\u001b[0m     kwargs[\u001b[39m\"\u001b[39m\u001b[39mcomment\u001b[39m\u001b[39m\"\u001b[39m] \u001b[39m=\u001b[39m comment\n\u001b[1;32m   2333\u001b[0m cmd \u001b[39m=\u001b[39m aggregation_command(\n\u001b[1;32m   2334\u001b[0m     \u001b[39mself\u001b[39m,\n\u001b[1;32m   2335\u001b[0m     cursor_class,\n\u001b[0;32m   (...)\u001b[0m\n\u001b[1;32m   2340\u001b[0m     user_fields\u001b[39m=\u001b[39m{\u001b[39m\"\u001b[39m\u001b[39mcursor\u001b[39m\u001b[39m\"\u001b[39m: {\u001b[39m\"\u001b[39m\u001b[39mfirstBatch\u001b[39m\u001b[39m\"\u001b[39m: \u001b[39m1\u001b[39m}},\n\u001b[1;32m   2341\u001b[0m )\n\u001b[0;32m-> 2343\u001b[0m \u001b[39mreturn\u001b[39;00m \u001b[39mself\u001b[39;49m\u001b[39m.\u001b[39;49m__database\u001b[39m.\u001b[39;49mclient\u001b[39m.\u001b[39;49m_retryable_read(\n\u001b[1;32m   2344\u001b[0m     cmd\u001b[39m.\u001b[39;49mget_cursor,\n\u001b[1;32m   2345\u001b[0m     cmd\u001b[39m.\u001b[39;49mget_read_preference(session),\n\u001b[1;32m   2346\u001b[0m     session,\n\u001b[1;32m   2347\u001b[0m     retryable\u001b[39m=\u001b[39;49m\u001b[39mnot\u001b[39;49;00m cmd\u001b[39m.\u001b[39;49m_performs_write,\n\u001b[1;32m   2348\u001b[0m )\n",
      "File \u001b[0;32m~/dev/code_snippets/twitter_bots/venv/lib/python3.10/site-packages/pymongo/_csot.py:105\u001b[0m, in \u001b[0;36mapply.<locals>.csot_wrapper\u001b[0;34m(self, *args, **kwargs)\u001b[0m\n\u001b[1;32m    103\u001b[0m         \u001b[39mwith\u001b[39;00m _TimeoutContext(timeout):\n\u001b[1;32m    104\u001b[0m             \u001b[39mreturn\u001b[39;00m func(\u001b[39mself\u001b[39m, \u001b[39m*\u001b[39margs, \u001b[39m*\u001b[39m\u001b[39m*\u001b[39mkwargs)\n\u001b[0;32m--> 105\u001b[0m \u001b[39mreturn\u001b[39;00m func(\u001b[39mself\u001b[39;49m, \u001b[39m*\u001b[39;49margs, \u001b[39m*\u001b[39;49m\u001b[39m*\u001b[39;49mkwargs)\n",
      "File \u001b[0;32m~/dev/code_snippets/twitter_bots/venv/lib/python3.10/site-packages/pymongo/mongo_client.py:1448\u001b[0m, in \u001b[0;36mMongoClient._retryable_read\u001b[0;34m(self, func, read_pref, session, address, retryable)\u001b[0m\n\u001b[1;32m   1446\u001b[0m             \u001b[39massert\u001b[39;00m last_error \u001b[39mis\u001b[39;00m \u001b[39mnot\u001b[39;00m \u001b[39mNone\u001b[39;00m\n\u001b[1;32m   1447\u001b[0m             \u001b[39mraise\u001b[39;00m last_error\n\u001b[0;32m-> 1448\u001b[0m         \u001b[39mreturn\u001b[39;00m func(session, server, sock_info, read_pref)\n\u001b[1;32m   1449\u001b[0m \u001b[39mexcept\u001b[39;00m ServerSelectionTimeoutError:\n\u001b[1;32m   1450\u001b[0m     \u001b[39mif\u001b[39;00m retrying:\n\u001b[1;32m   1451\u001b[0m         \u001b[39m# The application may think the write was never attempted\u001b[39;00m\n\u001b[1;32m   1452\u001b[0m         \u001b[39m# if we raise ServerSelectionTimeoutError on the retry\u001b[39;00m\n\u001b[1;32m   1453\u001b[0m         \u001b[39m# attempt. Raise the original exception instead.\u001b[39;00m\n",
      "File \u001b[0;32m~/dev/code_snippets/twitter_bots/venv/lib/python3.10/site-packages/pymongo/aggregation.py:142\u001b[0m, in \u001b[0;36m_AggregationCommand.get_cursor\u001b[0;34m(self, session, server, sock_info, read_preference)\u001b[0m\n\u001b[1;32m    139\u001b[0m     write_concern \u001b[39m=\u001b[39m \u001b[39mNone\u001b[39;00m\n\u001b[1;32m    141\u001b[0m \u001b[39m# Run command.\u001b[39;00m\n\u001b[0;32m--> 142\u001b[0m result \u001b[39m=\u001b[39m sock_info\u001b[39m.\u001b[39;49mcommand(\n\u001b[1;32m    143\u001b[0m     \u001b[39mself\u001b[39;49m\u001b[39m.\u001b[39;49m_database\u001b[39m.\u001b[39;49mname,\n\u001b[1;32m    144\u001b[0m     cmd,\n\u001b[1;32m    145\u001b[0m     read_preference,\n\u001b[1;32m    146\u001b[0m     \u001b[39mself\u001b[39;49m\u001b[39m.\u001b[39;49m_target\u001b[39m.\u001b[39;49mcodec_options,\n\u001b[1;32m    147\u001b[0m     parse_write_concern_error\u001b[39m=\u001b[39;49m\u001b[39mTrue\u001b[39;49;00m,\n\u001b[1;32m    148\u001b[0m     read_concern\u001b[39m=\u001b[39;49mread_concern,\n\u001b[1;32m    149\u001b[0m     write_concern\u001b[39m=\u001b[39;49mwrite_concern,\n\u001b[1;32m    150\u001b[0m     collation\u001b[39m=\u001b[39;49m\u001b[39mself\u001b[39;49m\u001b[39m.\u001b[39;49m_collation,\n\u001b[1;32m    151\u001b[0m     session\u001b[39m=\u001b[39;49msession,\n\u001b[1;32m    152\u001b[0m     client\u001b[39m=\u001b[39;49m\u001b[39mself\u001b[39;49m\u001b[39m.\u001b[39;49m_database\u001b[39m.\u001b[39;49mclient,\n\u001b[1;32m    153\u001b[0m     user_fields\u001b[39m=\u001b[39;49m\u001b[39mself\u001b[39;49m\u001b[39m.\u001b[39;49m_user_fields,\n\u001b[1;32m    154\u001b[0m )\n\u001b[1;32m    156\u001b[0m \u001b[39mif\u001b[39;00m \u001b[39mself\u001b[39m\u001b[39m.\u001b[39m_result_processor:\n\u001b[1;32m    157\u001b[0m     \u001b[39mself\u001b[39m\u001b[39m.\u001b[39m_result_processor(result, sock_info)\n",
      "File \u001b[0;32m~/dev/code_snippets/twitter_bots/venv/lib/python3.10/site-packages/pymongo/pool.py:767\u001b[0m, in \u001b[0;36mSocketInfo.command\u001b[0;34m(self, dbname, spec, read_preference, codec_options, check, allowable_errors, read_concern, write_concern, parse_write_concern_error, collation, session, client, retryable_write, publish_events, user_fields, exhaust_allowed)\u001b[0m\n\u001b[1;32m    765\u001b[0m     \u001b[39mself\u001b[39m\u001b[39m.\u001b[39m_raise_if_not_writable(unacknowledged)\n\u001b[1;32m    766\u001b[0m \u001b[39mtry\u001b[39;00m:\n\u001b[0;32m--> 767\u001b[0m     \u001b[39mreturn\u001b[39;00m command(\n\u001b[1;32m    768\u001b[0m         \u001b[39mself\u001b[39;49m,\n\u001b[1;32m    769\u001b[0m         dbname,\n\u001b[1;32m    770\u001b[0m         spec,\n\u001b[1;32m    771\u001b[0m         \u001b[39mself\u001b[39;49m\u001b[39m.\u001b[39;49mis_mongos,\n\u001b[1;32m    772\u001b[0m         read_preference,\n\u001b[1;32m    773\u001b[0m         codec_options,\n\u001b[1;32m    774\u001b[0m         session,\n\u001b[1;32m    775\u001b[0m         client,\n\u001b[1;32m    776\u001b[0m         check,\n\u001b[1;32m    777\u001b[0m         allowable_errors,\n\u001b[1;32m    778\u001b[0m         \u001b[39mself\u001b[39;49m\u001b[39m.\u001b[39;49maddress,\n\u001b[1;32m    779\u001b[0m         listeners,\n\u001b[1;32m    780\u001b[0m         \u001b[39mself\u001b[39;49m\u001b[39m.\u001b[39;49mmax_bson_size,\n\u001b[1;32m    781\u001b[0m         read_concern,\n\u001b[1;32m    782\u001b[0m         parse_write_concern_error\u001b[39m=\u001b[39;49mparse_write_concern_error,\n\u001b[1;32m    783\u001b[0m         collation\u001b[39m=\u001b[39;49mcollation,\n\u001b[1;32m    784\u001b[0m         compression_ctx\u001b[39m=\u001b[39;49m\u001b[39mself\u001b[39;49m\u001b[39m.\u001b[39;49mcompression_context,\n\u001b[1;32m    785\u001b[0m         use_op_msg\u001b[39m=\u001b[39;49m\u001b[39mself\u001b[39;49m\u001b[39m.\u001b[39;49mop_msg_enabled,\n\u001b[1;32m    786\u001b[0m         unacknowledged\u001b[39m=\u001b[39;49munacknowledged,\n\u001b[1;32m    787\u001b[0m         user_fields\u001b[39m=\u001b[39;49muser_fields,\n\u001b[1;32m    788\u001b[0m         exhaust_allowed\u001b[39m=\u001b[39;49mexhaust_allowed,\n\u001b[1;32m    789\u001b[0m         write_concern\u001b[39m=\u001b[39;49mwrite_concern,\n\u001b[1;32m    790\u001b[0m     )\n\u001b[1;32m    791\u001b[0m \u001b[39mexcept\u001b[39;00m (OperationFailure, NotPrimaryError):\n\u001b[1;32m    792\u001b[0m     \u001b[39mraise\u001b[39;00m\n",
      "File \u001b[0;32m~/dev/code_snippets/twitter_bots/venv/lib/python3.10/site-packages/pymongo/network.py:166\u001b[0m, in \u001b[0;36mcommand\u001b[0;34m(sock_info, dbname, spec, is_mongos, read_preference, codec_options, session, client, check, allowable_errors, address, listeners, max_bson_size, read_concern, parse_write_concern_error, collation, compression_ctx, use_op_msg, unacknowledged, user_fields, exhaust_allowed, write_concern)\u001b[0m\n\u001b[1;32m    164\u001b[0m             client\u001b[39m.\u001b[39m_process_response(response_doc, session)\n\u001b[1;32m    165\u001b[0m         \u001b[39mif\u001b[39;00m check:\n\u001b[0;32m--> 166\u001b[0m             helpers\u001b[39m.\u001b[39;49m_check_command_response(\n\u001b[1;32m    167\u001b[0m                 response_doc,\n\u001b[1;32m    168\u001b[0m                 sock_info\u001b[39m.\u001b[39;49mmax_wire_version,\n\u001b[1;32m    169\u001b[0m                 allowable_errors,\n\u001b[1;32m    170\u001b[0m                 parse_write_concern_error\u001b[39m=\u001b[39;49mparse_write_concern_error,\n\u001b[1;32m    171\u001b[0m             )\n\u001b[1;32m    172\u001b[0m \u001b[39mexcept\u001b[39;00m \u001b[39mException\u001b[39;00m \u001b[39mas\u001b[39;00m exc:\n\u001b[1;32m    173\u001b[0m     \u001b[39mif\u001b[39;00m publish:\n",
      "File \u001b[0;32m~/dev/code_snippets/twitter_bots/venv/lib/python3.10/site-packages/pymongo/helpers.py:181\u001b[0m, in \u001b[0;36m_check_command_response\u001b[0;34m(response, max_wire_version, allowable_errors, parse_write_concern_error)\u001b[0m\n\u001b[1;32m    178\u001b[0m \u001b[39melif\u001b[39;00m code \u001b[39m==\u001b[39m \u001b[39m43\u001b[39m:\n\u001b[1;32m    179\u001b[0m     \u001b[39mraise\u001b[39;00m CursorNotFound(errmsg, code, response, max_wire_version)\n\u001b[0;32m--> 181\u001b[0m \u001b[39mraise\u001b[39;00m OperationFailure(errmsg, code, response, max_wire_version)\n",
      "\u001b[0;31mOperationFailure\u001b[0m: invalid argument to $limit stage: Expected a non-negative number in: $limit: -1, full error: {'ok': 0.0, 'errmsg': 'invalid argument to $limit stage: Expected a non-negative number in: $limit: -1', 'code': 5107201, 'codeName': 'Location5107201', '$clusterTime': {'clusterTime': Timestamp(1672327075, 6), 'signature': {'hash': b\"N/9\\xe3/\\xc1\\x9ea?\\x0e'\\xf0\\xc0_c\\xc1\\xbfO\\xcc\\xf8\", 'keyId': 7172925401017090053}}, 'operationTime': Timestamp(1672327075, 6)}"
     ]
    }
   ],
   "source": [
    "ohlcv_db_all = ohlcv_db.aggregate(\n",
    "            [\n",
    "                {\n",
    "                    \"$match\": {\n",
    "                        \"timestamp\": {\n",
    "                            \"$gte\": datetime.utcnow() - timedelta(hours=1)\n",
    "                        },\n",
    "                    }\n",
    "                },\n",
    "                {\n",
    "                    \"$group\": {\n",
    "                        \"_id\": {\"$concat\": [\"$pair_symbol\", \"-\", \"$pair_base\"]},\n",
    "                        \"volume_sum\": {\"$sum\": {\"$toDouble\": \"$volume\"}},\n",
    "                    }\n",
    "                },\n",
    "\n",
    "                {\"$sort\": {\"volume_sum\": pymongo.DESCENDING}},\n",
    "                {\"$limit\": -1},\n",
    "            ],\n",
    "        )"
   ]
  },
  {
   "cell_type": "code",
   "execution_count": 107,
   "metadata": {},
   "outputs": [
    {
     "name": "stdout",
     "output_type": "stream",
     "text": [
      "2022-12-29 20:12:52.090602+05:00\n",
      "2022-12-29 15:12\n"
     ]
    }
   ],
   "source": [
    "print(datetime.now().astimezone())\n",
    "print(datetime.utcnow().strftime(\"%Y-%m-%d %H:%M\"))"
   ]
  },
  {
   "cell_type": "code",
   "execution_count": 108,
   "metadata": {},
   "outputs": [],
   "source": [
    "result =ohlcv_db.aggregate(\n",
    "            [\n",
    "                # filter for the last hour\n",
    "                {\n",
    "                    \"$match\": {\n",
    "                        \"timestamp\": {\n",
    "                            \"$gte\": datetime.utcnow() - timedelta(hours=1)\n",
    "                        },\n",
    "                    }\n",
    "                },\n",
    "                {\n",
    "                    \"$group\": {\n",
    "                        \"_id\": {\"$concat\": [\"$pair_symbol\", \"-\", \"$pair_base\"]},\n",
    "                        \"volume_sum\": {\"$sum\": {\"$toDouble\": \"$volume\"}},\n",
    "                    }\n",
    "                },\n",
    "\n",
    "                {\"$sort\": {\"volume_sum\": pymongo.DESCENDING}},\n",
    "                {\"$limit\": 100},\n",
    "            ],\n",
    "        )"
   ]
  },
  {
   "cell_type": "code",
   "execution_count": 109,
   "metadata": {},
   "outputs": [
    {
     "name": "stdout",
     "output_type": "stream",
     "text": [
      "{'_id': 'shib-usdt', 'volume_sum': 981642359609.8337}\n",
      "{'_id': 'shib-usd', 'volume_sum': 126840536652.51683}\n",
      "{'_id': 'shib-usdc', 'volume_sum': 2304759115.8341}\n",
      "{'_id': 'doge-usdt', 'volume_sum': 695248489.4782574}\n",
      "{'_id': 'xrp-usdt', 'volume_sum': 94593524.24268238}\n",
      "{'_id': 'ada-usdt', 'volume_sum': 39532602.97954555}\n",
      "{'_id': 'busd-usdt', 'volume_sum': 32386426.0262}\n",
      "{'_id': 'doge-usd', 'volume_sum': 22752256.11257993}\n",
      "{'_id': 'xlm-usdt', 'volume_sum': 17433037.416644137}\n",
      "{'_id': 'matic-usdt', 'volume_sum': 14830388.2605341}\n",
      "{'_id': 'btc-usd', 'volume_sum': 12059557.8401752}\n",
      "{'_id': 'usdt-usd', 'volume_sum': 7952076.90527107}\n",
      "{'_id': 'eos-usdt', 'volume_sum': 7546637.159337027}\n",
      "{'_id': 'eth-usd', 'volume_sum': 5093733.85332148}\n",
      "{'_id': 'ada-usd', 'volume_sum': 4590460.39497463}\n",
      "{'_id': 'usdc-usdt', 'volume_sum': 3152435.356908377}\n",
      "{'_id': 'xrp-usd', 'volume_sum': 2791893.39322974}\n",
      "{'_id': 'xlm-usd', 'volume_sum': 2542265.98476466}\n",
      "{'_id': 'link-usdt', 'volume_sum': 2115094.5127185555}\n",
      "{'_id': 'eth-usdt', 'volume_sum': 1384985.238509273}\n",
      "{'_id': 'btc-usdt', 'volume_sum': 1353787.461062055}\n",
      "{'_id': 'dot-usdt', 'volume_sum': 1349530.5349448274}\n",
      "{'_id': 'doge-usdc', 'volume_sum': 874577.6172}\n",
      "{'_id': 'matic-usd', 'volume_sum': 801548.69503937}\n",
      "{'_id': 'uni-usdt', 'volume_sum': 698329.0105631193}\n",
      "{'_id': 'usdc-usd', 'volume_sum': 636240.0877022}\n",
      "{'_id': 'ltc-usdt', 'volume_sum': 615434.5413615514}\n",
      "{'_id': 'cro-usdt', 'volume_sum': 457433.522302}\n",
      "{'_id': 'avax-usdt', 'volume_sum': 373572.3280139658}\n",
      "{'_id': 'cro-usd', 'volume_sum': 289580.3}\n",
      "{'_id': 'ltc-usd', 'volume_sum': 285600.19450978}\n",
      "{'_id': 'usdt-usdc', 'volume_sum': 251008.6769}\n",
      "{'_id': 'link-usd', 'volume_sum': 131152.93567936}\n",
      "{'_id': 'eos-usd', 'volume_sum': 101014.30453446}\n",
      "{'_id': 'bnb-usdt', 'volume_sum': 87022.87456129256}\n",
      "{'_id': 'dot-usd', 'volume_sum': 85780.44733161}\n",
      "{'_id': 'uni-usd', 'volume_sum': 67762.35115156}\n",
      "{'_id': 'xlm-usdc', 'volume_sum': 64664.2644}\n",
      "{'_id': 'xrp-usdc', 'volume_sum': 44604.8468}\n",
      "{'_id': 'cro-usdc', 'volume_sum': 42443.9047}\n",
      "{'_id': 'matic-usdc', 'volume_sum': 39910.7139}\n",
      "{'_id': 'avax-usd', 'volume_sum': 28189.71309905}\n",
      "{'_id': 'ada-usdc', 'volume_sum': 26609.6514}\n",
      "{'_id': 'busd-usd', 'volume_sum': 25398.43}\n",
      "{'_id': 'xmr-usdt', 'volume_sum': 15432.88394306}\n",
      "{'_id': 'bnb-usd', 'volume_sum': 4796.59459}\n",
      "{'_id': 'xmr-usd', 'volume_sum': 4168.6547613}\n",
      "{'_id': 'dot-usdc', 'volume_sum': 4145.467222}\n",
      "{'_id': 'uni-usdc', 'volume_sum': 3047.104}\n",
      "{'_id': 'ltc-usdc', 'volume_sum': 1747.706864}\n",
      "{'_id': 'eth-usdc', 'volume_sum': 758.71146815}\n",
      "{'_id': 'link-usdc', 'volume_sum': 618.21814}\n",
      "{'_id': 'avax-usdc', 'volume_sum': 312.024938}\n",
      "{'_id': 'bnb-usdc', 'volume_sum': 307.481439}\n",
      "{'_id': 'busd-usdc', 'volume_sum': 273.91249999999997}\n",
      "{'_id': 'eos-usdc', 'volume_sum': 266.1504}\n",
      "{'_id': 'xmr-usdc', 'volume_sum': 127.732047}\n",
      "{'_id': 'btc-usdc', 'volume_sum': 66.30793424}\n"
     ]
    }
   ],
   "source": [
    "for r in result:\n",
    "    pprint.pprint(r)"
   ]
  }
 ],
 "metadata": {
  "kernelspec": {
   "display_name": "venv",
   "language": "python",
   "name": "python3"
  },
  "language_info": {
   "codemirror_mode": {
    "name": "ipython",
    "version": 3
   },
   "file_extension": ".py",
   "mimetype": "text/x-python",
   "name": "python",
   "nbconvert_exporter": "python",
   "pygments_lexer": "ipython3",
   "version": "3.10.6 (main, Nov 14 2022, 16:10:14) [GCC 11.3.0]"
  },
  "orig_nbformat": 4,
  "vscode": {
   "interpreter": {
    "hash": "c78c5294417b1ac972f9d2d52a0ca10e080ea4869606885355938ec2f5c03e16"
   }
  }
 },
 "nbformat": 4,
 "nbformat_minor": 2
}
