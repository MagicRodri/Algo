{
 "cells": [
  {
   "cell_type": "code",
   "execution_count": 1,
   "metadata": {},
   "outputs": [
    {
     "name": "stdout",
     "output_type": "stream",
     "text": [
      "7955784\n"
     ]
    }
   ],
   "source": [
    "from db import ohlcv_db, posts_db\n",
    "import pymongo\n",
    "import pprint"
   ]
  },
  {
   "cell_type": "code",
   "execution_count": 2,
   "metadata": {},
   "outputs": [],
   "source": [
    "ohlcv_documents = ohlcv_db.find({},{'_id':0}).sort('volume', pymongo.DESCENDING)\n",
    "# ohlcv_documents[0]\n",
    "\n",
    "# Grab the top 100 distinct pairs by volume\n",
    "top_100_pairs_by_volume = set()\n",
    "for item in ohlcv_documents:\n",
    "    top_100_pairs_by_volume.add(f\"{item['pair_symbol'].upper()}-{item['pair_base'].upper()}\")\n",
    "    if len(top_100_pairs_by_volume) == 100:\n",
    "        break"
   ]
  },
  {
   "cell_type": "code",
   "execution_count": 3,
   "metadata": {},
   "outputs": [
    {
     "data": {
      "text/plain": [
       "{'1000SHIB-BUSD',\n",
       " 'ACH-BTC',\n",
       " 'ADA-ETH',\n",
       " 'AGIX-BUSD',\n",
       " 'ALTB-USDT',\n",
       " 'ANC-USDT',\n",
       " 'AVAX-USDT',\n",
       " 'BCN-USDT',\n",
       " 'BERRY-USDT',\n",
       " 'BERRY2-USDT',\n",
       " 'BRISE-USDT',\n",
       " 'BRWL-USDT',\n",
       " 'BSX-USD',\n",
       " 'BTT-USDD',\n",
       " 'BTT-USDT',\n",
       " 'CCD-USDT',\n",
       " 'CELR-USDT',\n",
       " 'CSPR-USDT',\n",
       " 'CTI-ETH',\n",
       " 'CTI-USDT',\n",
       " 'DGB-USDT',\n",
       " 'DMLG-USDT',\n",
       " 'DOGE-USD',\n",
       " 'DOGE-USDT',\n",
       " 'DOSE-USDC',\n",
       " 'ELON-USDT',\n",
       " 'ELT-USDT',\n",
       " 'ELU-USDT',\n",
       " 'EMPIRE-USDT',\n",
       " 'ETH-USD',\n",
       " 'FAST-USDT',\n",
       " 'FDC-USDT',\n",
       " 'FET-BUSD',\n",
       " 'FIO-USDT',\n",
       " 'FRM-USDT',\n",
       " 'FTI-USDT',\n",
       " 'GM-USDT',\n",
       " 'GNX-USDT',\n",
       " 'GRT-USDT',\n",
       " 'HELLO-USDT',\n",
       " 'ICX-BTC',\n",
       " 'IOTX-USDT',\n",
       " 'JASMY-USDT',\n",
       " 'KNC-USDT',\n",
       " 'LAMB-BTC',\n",
       " 'LEMO-USDT',\n",
       " 'LEVER-BUSD',\n",
       " 'LION-USDT',\n",
       " 'LUNA-USD',\n",
       " 'LUNC-USD',\n",
       " 'MESA-USDT',\n",
       " 'MIR-USDT',\n",
       " 'MLK-USDT',\n",
       " 'MT-BTC',\n",
       " 'NEAR-USDT',\n",
       " 'NFT-USDT',\n",
       " 'NIM-BTC',\n",
       " 'NIM-USDT',\n",
       " 'OCN-USDT',\n",
       " 'OLT-USDT',\n",
       " 'OP-USDT',\n",
       " 'PBX-USDT',\n",
       " 'PEEL-USDT',\n",
       " 'PHB-BUSD',\n",
       " 'PING-USDT',\n",
       " 'QUACK-USDT',\n",
       " 'RLC-USD',\n",
       " 'ROSE-BUSD',\n",
       " 'RSR-USDT',\n",
       " 'RVN-USDT',\n",
       " 'SBR-USDT',\n",
       " 'SFUND-USDT',\n",
       " 'SHIB-USDC',\n",
       " 'SKM-USDT',\n",
       " 'SPELL-USDT',\n",
       " 'SRK-ETH',\n",
       " 'STARL-USDC',\n",
       " 'TFUEL-BTC',\n",
       " 'TRX-BUSD',\n",
       " 'TRX-XRP',\n",
       " 'UNQ-USDT',\n",
       " 'USDC-USDT',\n",
       " 'USDT-USDC',\n",
       " 'UST-USDT',\n",
       " 'USTC-USDT',\n",
       " 'VEE-USDT',\n",
       " 'VEE2-USDT',\n",
       " 'VINU-USDT',\n",
       " 'VRT-USDT',\n",
       " 'VTHO-USD',\n",
       " 'WAVES-USD',\n",
       " 'WELL-USDT',\n",
       " 'WIN-TRX',\n",
       " 'WSG-USDT',\n",
       " 'XEN-USDT',\n",
       " 'XLM-EUR',\n",
       " 'XLM-USD',\n",
       " 'XRP-EUR',\n",
       " 'YCT-USDT',\n",
       " 'ZBC-USDT'}"
      ]
     },
     "execution_count": 3,
     "metadata": {},
     "output_type": "execute_result"
    }
   ],
   "source": [
    "top_100_pairs_by_volume"
   ]
  },
  {
   "cell_type": "code",
   "execution_count": 4,
   "metadata": {},
   "outputs": [
    {
     "name": "stdout",
     "output_type": "stream",
     "text": [
      "{'_id': ObjectId('639532ca0d693dfae1b8b0ae'),\n",
      " 'pair': 'ETH-USD',\n",
      " 'time': datetime.datetime(2022, 12, 12, 13, 34),\n",
      " 'tweet_text': 'Top Market Venues for ETH-USD:\\n'\n",
      "               'Coinbase: 61.2%\\n'\n",
      "               'Kraken: 10.75%\\n'\n",
      "               'Bitfinex: 9.08%\\n'\n",
      "               'Crypto-com: 8.51%\\n'\n",
      "               'Gemini: 4.92%\\n'\n",
      "               'Others: 5.53%'}\n",
      "{'_id': ObjectId('639532ca0d693dfae1b8b0ab'),\n",
      " 'pair': 'ETH-USD',\n",
      " 'time': datetime.datetime(2022, 12, 12, 23, 17),\n",
      " 'tweet_text': 'Top Market Venues for ETH-USD:\\n'\n",
      "               'Coinbase: 68.93%\\n'\n",
      "               'Crypto-com: 10.86%\\n'\n",
      "               'Kraken: 5.81%\\n'\n",
      "               'Bitfinex: 5.15%\\n'\n",
      "               'Bitstamp: 4.69%\\n'\n",
      "               'Others: 4.55%'}\n"
     ]
    }
   ],
   "source": [
    "posts_documents = posts_db.find({'pair':{'$in':list(top_100_pairs_by_volume)}}).sort('time', pymongo.ASCENDING)\n",
    "for post in posts_documents:\n",
    "    pair = post.get('tweet_text').split(':')[0].split(' ')[-1]\n",
    "    # updated = posts_db.find_one_and_update({'_id': post.get('_id')}, {'$set': {'pair': pair}})\n",
    "    pprint.pprint(post)"
   ]
  }
 ],
 "metadata": {
  "kernelspec": {
   "display_name": "venv",
   "language": "python",
   "name": "python3"
  },
  "language_info": {
   "codemirror_mode": {
    "name": "ipython",
    "version": 3
   },
   "file_extension": ".py",
   "mimetype": "text/x-python",
   "name": "python",
   "nbconvert_exporter": "python",
   "pygments_lexer": "ipython3",
   "version": "3.10.6 (main, Nov 14 2022, 16:10:14) [GCC 11.3.0]"
  },
  "orig_nbformat": 4,
  "vscode": {
   "interpreter": {
    "hash": "c78c5294417b1ac972f9d2d52a0ca10e080ea4869606885355938ec2f5c03e16"
   }
  }
 },
 "nbformat": 4,
 "nbformat_minor": 2
}
